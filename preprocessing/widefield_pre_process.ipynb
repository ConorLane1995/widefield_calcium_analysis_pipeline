{
 "cells": [
  {
   "cell_type": "code",
   "execution_count": 1,
   "metadata": {},
   "outputs": [],
   "source": [
    "from cmath import nan\n",
    "from timeit import repeat\n",
    "from tkinter import Y\n",
    "\n",
    "import numpy as np\n",
    "import skimage\n",
    "from skimage.io import imread\n",
    "from skimage.measure import block_reduce\n",
    "import os\n",
    "from matplotlib import pyplot as plt\n",
    "from matplotlib import cm\n",
    "import pickle\n",
    "import json\n",
    "import scipy.io as scio\n",
    "import pickle\n",
    "from scipy import signal\n",
    "from skimage import restoration\n",
    "\n",
    "from pathlib import Path\n",
    "\n",
    "from suite2p.extraction import dcnv\n"
   ]
  },
  {
   "cell_type": "code",
   "execution_count": 2,
   "metadata": {},
   "outputs": [],
   "source": [
    "# Absolute path to the JSON file\n",
    "file_path = Path(r'C:/Users/Conor/2Psinapod/2Psinapod/config_widefield.json')\n",
    "\n",
    "# Load JSON file\n",
    "with file_path.open('r') as f:\n",
    "    config = json.load(f)"
   ]
  },
  {
   "cell_type": "code",
   "execution_count": 3,
   "metadata": {},
   "outputs": [],
   "source": [
    "BASE_PATH = config['RecordingFolder'] # folder with all of the files required to process recording. \n",
    "TIFF_PATH = config['TIFF']\n",
    "CSV_PATH = config['Triggers'] # name of CSV (assumed to be in the folder given in line above) with the trigger voltages over the recording\n",
    "CONDITIONS_PATH = config['Conditions'] # name of the CSV (assumed to be in folder given two lines above) with the condition types of each trial (freq, intensity, etc)\n",
    "TIFF = BASE_PATH + TIFF_PATH\n",
    "\n",
    "STIMULUS_FRAMERATE = config['TriggerFR'] # framerate of the trigger file\n",
    "TRIGGER_DELAY_IN_MS = config['TriggerDelay'] # delay between TDT sending a trigger and the stimulus actually happening\n",
    "RECORDING_FRAMERATE = config['RecordingFR'] # framerate of the fluorescence recording\n",
    "EPOCH_START_IN_MS = config['EpochStart'] # time to include before trial onset for each epoch\n",
    "EPOCH_END_IN_MS = config['EpochEnd'] # time to include after trial onset for each epoch\n",
    "NO_BASELINE_FRAMES = config['BaselineFrames']\n",
    "ZSCORE_THRESHOLD = config['ZscoreThreshold']\n",
    "START = config['ResponseStart']\n",
    "STOP = config['ResponseStop']"
   ]
  },
  {
   "cell_type": "code",
   "execution_count": 4,
   "metadata": {},
   "outputs": [],
   "source": [
    "## PRE-PROCESSING ##\n",
    "\n",
    "'''\n",
    "Load the tiff stack of the recording as a single 3D array and downsample it from 512x512 to 256x256 (if recording is larger than 512x512, change block size).   \n",
    "Note: The tiff stack must be the only thing in the folder.  It will try to load other items into the array.\n",
    "@Param: Name of folder (paste path into FILESTOLOAD section)\n",
    "Return: (N_frames x N_pixels x N_pixels) numpy array.\n",
    "'''\n",
    "def load_recording(TIFF):\n",
    "\n",
    "        video = []\n",
    "        images = [img for img in os.listdir(TIFF)]\n",
    "\n",
    "        for img in images:\n",
    "                im = imread(TIFF+img)\n",
    "                downsamp_img = block_reduce(im,block_size=(2,2),func=np.mean)\n",
    "                video.append(downsamp_img)\n",
    "        video = np.array(video)\n",
    "\n",
    "        return video"
   ]
  },
  {
   "cell_type": "code",
   "execution_count": 5,
   "metadata": {},
   "outputs": [],
   "source": [
    "def get_onset_frames(stimulus):\n",
    "    # find the max voltage (this will be the value in the vector when the trigger was sent)\n",
    "    max_voltage = max(stimulus, key=lambda x:x[1])\n",
    "    max_voltage = max_voltage[1]\n",
    "\n",
    "    onset_times = [] # empty list to append our onset frames into\n",
    "    time_list_index = 0 # counter to keep track of our index in the onset_times list\n",
    "\n",
    "    # for each frame in the stimulus file\n",
    "    for stimulus_idx in range(len(stimulus)):\n",
    "        (time,voltage) = stimulus[stimulus_idx] # unpack the voltage at that timepoint\n",
    "\n",
    "        if voltage.round() == max_voltage.round(): # if the voltage was our trigger voltage\n",
    "            if time_list_index == 0: # and if we're at the first index (so there's no previous index to compare with)\n",
    "                trigger_time_in_sec = time/1000 + TRIGGER_DELAY_IN_MS/1000\n",
    "                onset_times.append(trigger_time_in_sec) # add the time as an onset time in SECONDS\n",
    "                time_list_index += 1\n",
    "\n",
    "            # if we're not at index zero, we need to compare this voltage with the previous saved onset voltage\n",
    "            # otherwise we save a bunch of voltages as separate triggers because they all match the max voltage\n",
    "            # but we just want one timepoint per trigger\n",
    "            elif time/1000 -  onset_times[time_list_index - 1] > 1: \n",
    "                trigger_time_in_sec = time/1000 + TRIGGER_DELAY_IN_MS/1000\n",
    "                onset_times.append(trigger_time_in_sec) # want it in second not millisecond\n",
    "                time_list_index += 1\n",
    "\n",
    "    # get the onset times in terms of frames of our fluorescence trace\n",
    "    onset_frames_at_recording_fr = np.multiply(onset_times,RECORDING_FRAMERATE) # s * f/s = f\n",
    "\n",
    "    #Remove first three triggers, corresponding to start at frame zero, \n",
    "    onset_frames_at_recording_fr = onset_frames_at_recording_fr[3:]\n",
    "\n",
    "    return onset_frames_at_recording_fr"
   ]
  },
  {
   "cell_type": "code",
   "execution_count": 6,
   "metadata": {},
   "outputs": [],
   "source": [
    "'''\n",
    "Applies a Butterworth high pass filter to the full time-course of each pixel, to remove slow fluctuations in the signal. \n",
    "@Param: Cutoff - The frequency below which activity will be filtered out of the signal. \n",
    "@Param: fs - framerate of the recording in Hz\n",
    "@Param: The order of the filter. For 'bandpass' and 'bandstop' filters, the resulting order of the final second-order \n",
    "@Param: Video - \n",
    "sections ('sos') matrix is 2*N, with N the number of biquad sections of the desired system.\n",
    "'''\n",
    "\n",
    "\n",
    "def butter_highpass(cutoff, fs, order):\n",
    "    nyq = 0.5 * fs\n",
    "    normal_cutoff = cutoff / nyq\n",
    "    b, a = signal.butter(order, normal_cutoff, btype='high', analog=False)\n",
    "    return b, a\n",
    "\n",
    "def butter_highpass_filter(video, cutoff, fs, order):\n",
    "    b, a = butter_highpass(cutoff, fs, order=order)\n",
    "    y = signal.filtfilt(b, a, video)\n",
    "    return y\n",
    "\n",
    "def apply_butter_highpass(video,cutoff,fs):\n",
    "        video_filtered = np.zeros_like(video)\n",
    "        for i in range(len(video[0,:,0])):\n",
    "                for j in range(len(video[0,0,:])):\n",
    "                        video_filtered[:,i,j] = butter_highpass_filter(video[:,i,j],cutoff,fs,order)\n",
    "        return video_filtered\n"
   ]
  },
  {
   "cell_type": "code",
   "execution_count": 10,
   "metadata": {},
   "outputs": [],
   "source": [
    "# Gaussian denoise\n",
    "\n"
   ]
  },
  {
   "cell_type": "code",
   "execution_count": 7,
   "metadata": {},
   "outputs": [],
   "source": [
    "def epoch_trials(video,onset_frames):\n",
    "\n",
    "        # Get length of trial in seconds\n",
    "        trial_length_in_ms = EPOCH_END_IN_MS - EPOCH_START_IN_MS # this gives us length in ms\n",
    "        trial_length_in_sec = trial_length_in_ms/1000 # now we have it in second\n",
    "\n",
    "        # Convert this to length in frames\n",
    "        trial_length_in_frames = int(trial_length_in_sec * RECORDING_FRAMERATE) # s * f/s = f\n",
    "\n",
    "        # Initialize an array to store the epoched traces\n",
    "        # nTrials x nFrames x nPixels x nPixels\n",
    "\n",
    "        epoched_pixels = np.zeros((len(onset_frames),(trial_length_in_frames), len(video[0,:,0]), len(video[0,0,:])))\n",
    "\n",
    "        #Start filling the empty matrix:\n",
    "        # Loop through the onset frames\n",
    "        for onset in range(len(onset_frames)-1):\n",
    "\n",
    "                #Get the trial starting and ending frames\n",
    "                trial_starting_frame = np.round(onset_frames[onset]) + (EPOCH_START_IN_MS/1000*RECORDING_FRAMERATE)\n",
    "                trial_ending_frame = np.round(onset_frames[onset]) + (EPOCH_END_IN_MS/1000*RECORDING_FRAMERATE)\n",
    "\n",
    "\n",
    "                #Grab this range of frames from the recording and store in epoched matrix\n",
    "                epoch = video[int(trial_starting_frame):int(trial_ending_frame),:,:]\n",
    "                epoched_pixels[onset,:,:] = epoch\n",
    "\n",
    "        return epoched_pixels"
   ]
  },
  {
   "cell_type": "code",
   "execution_count": 8,
   "metadata": {},
   "outputs": [],
   "source": [
    "def get_pixel_baseline(pixel_trace,onset_frames):\n",
    "    \n",
    "    baselines = np.empty(len(onset_frames)) \n",
    "\n",
    "    for i, idx in enumerate(onset_frames):\n",
    "        start_idx = max(0, idx - 5)\n",
    "        end_idx = idx  # Don't Include the value at the onset frame.\n",
    "        baseline_frames = pixel_trace[int(start_idx): int(end_idx)]\n",
    "\n",
    "        baselines[i] = np.mean(baseline_frames)\n",
    "\n",
    "    pixel_baseline = np.mean(baselines)\n",
    "    \n",
    "    return pixel_baseline"
   ]
  },
  {
   "cell_type": "code",
   "execution_count": 10,
   "metadata": {},
   "outputs": [],
   "source": [
    "# convert to delta f / f0 \n",
    "\n",
    "def convert_deltaF_F0(video,onset_frames):\n",
    "\n",
    "    deltaF_F0_converted = np.zeros_like(video) \n",
    "\n",
    "    # For each pixel, use the onset frames to get all the pre-stimulus baseline values - the mean of this is F0\n",
    "    for i in range(len(video[0,:,0])):\n",
    "        for j in range(len(video[0,0,:])):\n",
    "\n",
    "            trace = np.array(video[:,i,j])\n",
    "\n",
    "            pixel_baseline = get_pixel_baseline(trace,onset_frames)\n",
    "\n",
    "            deltaF_F0 = ((trace - pixel_baseline)/pixel_baseline)\n",
    "\n",
    "            deltaF_F0_converted[:,i,j] = deltaF_F0\n",
    "    \n",
    "    return deltaF_F0_converted"
   ]
  },
  {
   "cell_type": "code",
   "execution_count": 11,
   "metadata": {},
   "outputs": [],
   "source": [
    "def convert_to_deltaF_Fo_singlemean(video):\n",
    "        # Takes a single pixel mean for whole pixel's trace - only really good for visualization. \n",
    "        # Take the mean of each pixel across all frames and store it in a 256x256 ndarray. \n",
    "        mean_pixels = np.empty(shape=[256,256])\n",
    "\n",
    "        for i in range(len(video[0,:,0])):\n",
    "                for j in range(len(video[0,0,:])):\n",
    "\n",
    "                        mean = np.mean(video[:,i,j])\n",
    "                        mean_pixels[i,j] = mean\n",
    "\n",
    "        #For each frame, subtract the mean of that frame from the total recording, \n",
    "        # then divide by the mean to get (F-Fo)/Fo\n",
    "\n",
    "        #Reshape array so can subtract mean value\n",
    "        mean_pixels = mean_pixels[np.newaxis,...]\n",
    "        baseline_subtracted = (np.subtract(video,mean_pixels))\n",
    "        deltaF_Fo_singlemean = baseline_subtracted/mean_pixels\n",
    "\n",
    "        return deltaF_Fo_singlemean"
   ]
  },
  {
   "cell_type": "code",
   "execution_count": 12,
   "metadata": {},
   "outputs": [],
   "source": [
    "def format_trials(baseline_adjusted_epoched,conditions):\n",
    "\n",
    "        #Format the trials into a dict, arranged by frequency.\n",
    "        #Each trace should be a nFrames by relative fluorescence array\n",
    "        # format the dictionary so we get this structure:\n",
    "        #     # freq_f{\n",
    "        #       repetition{ \n",
    "        #           [x,x,x,x,...] }}}\n",
    "\n",
    "        freq_dict = dict.fromkeys(np.unique(conditions[:,0]))\n",
    "\n",
    "        # make empty dictionaries so we can index properly later\n",
    "        for freq in freq_dict:\n",
    "                freq_dict[freq] = {}\n",
    "\n",
    "        # make a temporary map so we can keep track of how many repetitions of this trial we've seen\n",
    "        # just going to add together the frequency and intensity to index it\n",
    "        # biggest element we'll need is max(frequency)\n",
    "        max_element = max(conditions[:,0]) + 10\n",
    "        temp_map = [0] * max_element\n",
    "\n",
    "        # for each trial\n",
    "        for trial in range(len(conditions)):\n",
    "\n",
    "                # trial's frequency\n",
    "                f = conditions[trial,0]\n",
    "\n",
    "                # access the map to see how many repetitions of the frequency we've already seen\n",
    "                # this way we don't overwrite a trial with the same stimulus type\n",
    "                num_rep = temp_map[f]+1\n",
    "                temp_map[f] += 1\n",
    "\n",
    "                # using the frequency and intensity to index our dictionary to store our trace\n",
    "                freq_dict[f][num_rep] = baseline_adjusted_epoched[trial,:,:,:]\n",
    "\n",
    "        return freq_dict\n"
   ]
  },
  {
   "cell_type": "code",
   "execution_count": 55,
   "metadata": {},
   "outputs": [],
   "source": [
    "def get_zscored_response(trial,onset_frames):\n",
    "    baseline = get_pixel_baseline(trial,onset_frames)\n",
    "    #response = trial[n_baseline_frames:]\n",
    "\n",
    "    baseline_mean = np.average(baseline)\n",
    "    baseline_std = np.std(baseline)\n",
    "\n",
    "    zscorer = lambda x: (x-baseline_mean)/baseline_std\n",
    "    zscore_response = np.array([zscorer(xi) for xi in trial])\n",
    "\n",
    "    return zscore_response\n",
    "\n",
    "\n",
    "def zscore_and_median(freq_dict,conditions,onset_frames):\n",
    "        # Create the empty dictionary that will store median values\n",
    "        median_zscore_dict = dict.fromkeys(np.unique(conditions[:,0]))\n",
    "\n",
    "        for freq in freq_dict:\n",
    "                # Create empty numpy arrays to store each individual trial, it's z-scored version, the average value of the response period,\n",
    "                #  and the median value across all trials. \n",
    "                freq_array = np.empty([len(freq_dict[freq]),25,256,256])\n",
    "                zscore_array = np.empty([len(freq_dict[freq]),25,256,256])\n",
    "                ave_zscore_array = np.empty([len(freq_dict[freq]),256,256])\n",
    "                median_zscore_array = np.empty([1,256,256])\n",
    "                median_zscore_dict[freq] = {}\n",
    "\n",
    "\n",
    "                #  Iterate through each rep in the given frequency key and convert it to a z-score.\n",
    "                for rep in range(1,len(freq_dict[freq])):\n",
    "                        freq_array[rep-1,:,:,:] = freq_dict[freq][rep]\n",
    "                        for i in range(len(freq_array[0,0,:,0])):\n",
    "                                for j in range(len(freq_array[0,0,0,:])):\n",
    "                                        zscore_array[rep-1,:,i,j] = get_zscored_response(freq_array[rep-1,:,i,j],onset_frames)\n",
    "                                        # Extract the frames corresponding to the response period and find the mean value. \n",
    "                                        ave_zscore_array[rep-1,i,j] = np.mean(zscore_array[rep-1,START:STOP,i,j])\n",
    "                #  iterate through the mean values for each pixel, and find the median value across all trials for that pixel. \n",
    "                for i in range(len(ave_zscore_array[0,:,0])):\n",
    "                        for j in range(len(ave_zscore_array[0,0,:])):\n",
    "                                median_zscore_array[:,i,j] = np.median(ave_zscore_array[:,i,j])\n",
    "\n",
    "                median_zscore_dict[freq] = median_zscore_array\n",
    "\n",
    "        return median_zscore_dict"
   ]
  },
  {
   "cell_type": "code",
   "execution_count": 53,
   "metadata": {},
   "outputs": [],
   "source": [
    "def convert_to_zscore(freq_dict,conditions,onset_frames):\n",
    "    \n",
    "        zscore_dict = dict.fromkeys(np.unique(conditions[:,0]))\n",
    "        \n",
    "        for freq in freq_dict:\n",
    "                \n",
    "                # Create empty numpy arrays to store each individual trial, it's z-scored version, the average value of the response period,\n",
    "                #  and the median value across all trials. \n",
    "                freq_array = np.empty([len(freq_dict[freq]),25,256,256])\n",
    "                zscore_array = np.empty([len(freq_dict[freq]),25,256,256])\n",
    "\n",
    "                 #  Iterate through each rep in the given frequency key and convert it to a z-score.\n",
    "                for rep in range(1,len(freq_dict[freq])):\n",
    "                        freq_array[rep-1,:,:,:] = freq_dict[freq][rep]\n",
    "                        for i in range(freq_array.shape[2]):\n",
    "                                for j in range(freq_array.shape[3]):\n",
    "                                        zscore_array[rep-1,:,i,j] = get_zscored_response(freq_array[rep-1,:,i,j],onset_frames)\n",
    "\n",
    "                zscore_dict[freq] = zscore_array\n",
    "\n",
    "        return zscore_dict\n"
   ]
  },
  {
   "cell_type": "code",
   "execution_count": null,
   "metadata": {},
   "outputs": [],
   "source": []
  },
  {
   "cell_type": "markdown",
   "metadata": {},
   "source": [
    "EXECUTION CODE:"
   ]
  },
  {
   "cell_type": "code",
   "execution_count": 18,
   "metadata": {},
   "outputs": [],
   "source": [
    "stimulus = np.genfromtxt(BASE_PATH + CSV_PATH,delimiter=',',skip_header=True) # voltage values of the trigger software over the recording\n",
    "conditions_mat = scio.loadmat(BASE_PATH + CONDITIONS_PATH) # conditition type of each trial in chronological order\n",
    "conditions = conditions_mat[\"stim_data\"]\n",
    "conditions = conditions[3:]  #Remove the first silent stim as this corresponds to frame 0\n",
    "\n",
    "onset_frames = np.round(get_onset_frames(stimulus))"
   ]
  },
  {
   "cell_type": "code",
   "execution_count": 19,
   "metadata": {},
   "outputs": [],
   "source": [
    "#Load the recording to be analyzed as a Nframes x Xpixels x Ypixels array. \n",
    "video = load_recording(TIFF)"
   ]
  },
  {
   "cell_type": "code",
   "execution_count": 20,
   "metadata": {},
   "outputs": [],
   "source": [
    "#Apply Butterworth highpass filter \n",
    "\n",
    "cutoff = 0.3\n",
    "fs = 10\n",
    "order = 5\n",
    "\n",
    "video_high_filtered = apply_butter_highpass(video,cutoff,fs)"
   ]
  },
  {
   "cell_type": "code",
   "execution_count": 65,
   "metadata": {},
   "outputs": [],
   "source": [
    "# #Convert to deltaF/F0\n",
    "# delta_F = convert_deltaF_F0(video_high_filtered,onset_frames)\n",
    "\n",
    "#Convert to deltaF/F0 single mean\n",
    "delta_F = convert_to_deltaF_Fo_singlemean(video)"
   ]
  },
  {
   "cell_type": "code",
   "execution_count": 38,
   "metadata": {},
   "outputs": [],
   "source": [
    "# Epoch the recording into trials\n",
    "\n",
    "epoched = epoch_trials(video_high_filtered,onset_frames)"
   ]
  },
  {
   "cell_type": "code",
   "execution_count": 39,
   "metadata": {},
   "outputs": [],
   "source": [
    "# Format into dictionary\n",
    "\n",
    "freq_dict = format_trials(epoched,conditions)"
   ]
  },
  {
   "cell_type": "code",
   "execution_count": 24,
   "metadata": {},
   "outputs": [],
   "source": [
    "# zscore_dict = convert_to_zscore(freq_dict,conditions)"
   ]
  },
  {
   "cell_type": "code",
   "execution_count": 25,
   "metadata": {},
   "outputs": [],
   "source": [
    "# # save the recording information \n",
    "# with open(BASE_PATH+\"zscore_dict.pkl\",'wb') as f:\n",
    "#         pickle.dump(zscore_dict,f)"
   ]
  },
  {
   "cell_type": "code",
   "execution_count": 42,
   "metadata": {},
   "outputs": [],
   "source": [
    "with open(BASE_PATH+\"deconv_test.pkl\", 'rb') as f:\n",
    "                deconv_test = pickle.load(f)"
   ]
  },
  {
   "cell_type": "code",
   "execution_count": 62,
   "metadata": {},
   "outputs": [
    {
     "name": "stdout",
     "output_type": "stream",
     "text": [
      "[[[0.         0.         0.         ... 0.         0.         0.        ]\n",
      "  [0.         0.         0.         ... 0.         1.20927799 0.        ]\n",
      "  [0.15936978 0.         0.         ... 0.         0.         0.        ]\n",
      "  ...\n",
      "  [2.42692685 0.         0.         ... 0.         0.         0.        ]\n",
      "  [0.         0.         0.         ... 0.         0.         0.        ]\n",
      "  [0.         0.         0.         ... 0.         0.         0.        ]]\n",
      "\n",
      " [[0.         0.         0.         ... 0.         0.         0.        ]\n",
      "  [0.         0.         0.         ... 0.         0.         0.        ]\n",
      "  [0.         0.72555369 0.         ... 0.         0.         0.        ]\n",
      "  ...\n",
      "  [0.         0.         0.         ... 0.         0.         0.        ]\n",
      "  [0.         0.         0.         ... 0.         0.         0.        ]\n",
      "  [0.         0.         0.         ... 0.         0.         0.        ]]\n",
      "\n",
      " [[0.         0.         0.         ... 0.         0.         0.        ]\n",
      "  [0.         0.         0.         ... 0.         0.         0.        ]\n",
      "  [0.         0.         0.         ... 0.         0.         0.        ]\n",
      "  ...\n",
      "  [0.         0.         0.         ... 0.         0.         0.        ]\n",
      "  [0.         0.         0.         ... 0.         0.         0.        ]\n",
      "  [0.         0.         0.         ... 3.32289481 0.         0.        ]]\n",
      "\n",
      " ...\n",
      "\n",
      " [[0.         0.         0.         ... 0.         0.         0.        ]\n",
      "  [0.         0.         0.         ... 0.         0.         0.        ]\n",
      "  [0.         0.         0.         ... 0.         0.         0.        ]\n",
      "  ...\n",
      "  [0.         0.         0.36783811 ... 0.         0.         0.        ]\n",
      "  [0.         0.         0.         ... 0.         0.         0.        ]\n",
      "  [0.         0.         0.         ... 0.         0.         0.        ]]\n",
      "\n",
      " [[0.         0.         0.         ... 0.         0.         0.        ]\n",
      "  [0.         0.         0.         ... 0.         0.         0.        ]\n",
      "  [0.         0.57993579 0.         ... 0.         0.         0.        ]\n",
      "  ...\n",
      "  [0.         0.         0.         ... 0.         0.         0.        ]\n",
      "  [0.         0.         0.         ... 0.         0.         0.        ]\n",
      "  [0.         0.         0.         ... 0.         0.         0.        ]]\n",
      "\n",
      " [[0.         0.         0.         ... 0.         0.         0.        ]\n",
      "  [0.         0.         0.         ... 1.23032475 0.         0.        ]\n",
      "  [0.         0.         0.         ... 0.         0.         0.        ]\n",
      "  ...\n",
      "  [0.         0.         0.         ... 0.         0.         0.        ]\n",
      "  [0.         0.         0.         ... 0.         0.         0.        ]\n",
      "  [0.         0.         0.         ... 0.         0.66726613 0.        ]]]\n"
     ]
    }
   ],
   "source": [
    "print(deconv_test[12335][5])"
   ]
  },
  {
   "cell_type": "code",
   "execution_count": 64,
   "metadata": {},
   "outputs": [
    {
     "ename": "KeyboardInterrupt",
     "evalue": "",
     "output_type": "error",
     "traceback": [
      "\u001b[1;31m---------------------------------------------------------------------------\u001b[0m",
      "\u001b[1;31mKeyboardInterrupt\u001b[0m                         Traceback (most recent call last)",
      "Cell \u001b[1;32mIn[64], line 2\u001b[0m\n\u001b[0;32m      1\u001b[0m \u001b[38;5;66;03m# Take the epoched, formatted dictionary and convert each individual trial to a z-score. \u001b[39;00m\n\u001b[1;32m----> 2\u001b[0m median_zscore_dict \u001b[38;5;241m=\u001b[39m \u001b[43mzscore_and_median\u001b[49m\u001b[43m(\u001b[49m\u001b[43mdeconv_test\u001b[49m\u001b[43m,\u001b[49m\u001b[43mconditions\u001b[49m\u001b[43m,\u001b[49m\u001b[43monset_frames\u001b[49m\u001b[43m)\u001b[49m\n",
      "Cell \u001b[1;32mIn[55], line 33\u001b[0m, in \u001b[0;36mzscore_and_median\u001b[1;34m(freq_dict, conditions, onset_frames)\u001b[0m\n\u001b[0;32m     31\u001b[0m \u001b[38;5;28;01mfor\u001b[39;00m i \u001b[38;5;129;01min\u001b[39;00m \u001b[38;5;28mrange\u001b[39m(\u001b[38;5;28mlen\u001b[39m(freq_array[\u001b[38;5;241m0\u001b[39m,\u001b[38;5;241m0\u001b[39m,:,\u001b[38;5;241m0\u001b[39m])):\n\u001b[0;32m     32\u001b[0m         \u001b[38;5;28;01mfor\u001b[39;00m j \u001b[38;5;129;01min\u001b[39;00m \u001b[38;5;28mrange\u001b[39m(\u001b[38;5;28mlen\u001b[39m(freq_array[\u001b[38;5;241m0\u001b[39m,\u001b[38;5;241m0\u001b[39m,\u001b[38;5;241m0\u001b[39m,:])):\n\u001b[1;32m---> 33\u001b[0m                 \u001b[43mzscore_array\u001b[49m\u001b[43m[\u001b[49m\u001b[43mrep\u001b[49m\u001b[38;5;241;43m-\u001b[39;49m\u001b[38;5;241;43m1\u001b[39;49m\u001b[43m,\u001b[49m\u001b[43m:\u001b[49m\u001b[43m,\u001b[49m\u001b[43mi\u001b[49m\u001b[43m,\u001b[49m\u001b[43mj\u001b[49m\u001b[43m]\u001b[49m \u001b[38;5;241m=\u001b[39m get_zscored_response(freq_array[rep\u001b[38;5;241m-\u001b[39m\u001b[38;5;241m1\u001b[39m,:,i,j],onset_frames)\n\u001b[0;32m     34\u001b[0m                 \u001b[38;5;66;03m# Extract the frames corresponding to the response period and find the mean value. \u001b[39;00m\n\u001b[0;32m     35\u001b[0m                 ave_zscore_array[rep\u001b[38;5;241m-\u001b[39m\u001b[38;5;241m1\u001b[39m,i,j] \u001b[38;5;241m=\u001b[39m np\u001b[38;5;241m.\u001b[39mmean(zscore_array[rep\u001b[38;5;241m-\u001b[39m\u001b[38;5;241m1\u001b[39m,START:STOP,i,j])\n",
      "\u001b[1;31mKeyboardInterrupt\u001b[0m: "
     ]
    }
   ],
   "source": [
    "# Take the epoched, formatted dictionary and convert each individual trial to a z-score. \n",
    "median_zscore_dict = zscore_and_median(deconv_test,conditions,onset_frames)"
   ]
  },
  {
   "cell_type": "code",
   "execution_count": 44,
   "metadata": {},
   "outputs": [
    {
     "name": "stdout",
     "output_type": "stream",
     "text": [
      "[ 0.          0.          0.          0.          0.          0.\n",
      "  0.          0.          0.          0.          0.          0.\n",
      "  0.          0.          0.          0.          0.          0.9388026\n",
      "  0.          8.25631809 16.04413414  0.          0.          0.\n",
      "  0.        ]\n"
     ]
    }
   ],
   "source": [
    "test_freq = deconv_test[12335][1]\n",
    "print(test_freq[:,40,150])"
   ]
  },
  {
   "cell_type": "code",
   "execution_count": 46,
   "metadata": {},
   "outputs": [],
   "source": [
    "# save the recording information \n",
    "with open(BASE_PATH+\"median_zscore_dict_deconv_test.pkl\",'wb') as f:\n",
    "        pickle.dump(median_zscore_dict,f)"
   ]
  },
  {
   "cell_type": "markdown",
   "metadata": {},
   "source": [
    "UNUSED CODE"
   ]
  },
  {
   "cell_type": "code",
   "execution_count": 37,
   "metadata": {},
   "outputs": [
    {
     "data": {
      "image/png": "[encoded data removed]",
      "text/plain": [
       "<Figure size 640x480 with 1 Axes>"
      ]
     },
     "metadata": {},
     "output_type": "display_data"
    }
   ],
   "source": [
    "for i in range(1,10):\n",
    "    test_freq = freq_dict[12335][i]\n",
    "    plt.plot(test_freq[:,150,150])"
   ]
  },
  {
   "cell_type": "code",
   "execution_count": 30,
   "metadata": {},
   "outputs": [],
   "source": [
    "# from math import pi, sqrt, exp\n",
    "\n",
    "# def gauss(n=3000,sigma=470):\n",
    "#     r = range(-int(n/2),int(n/2)+1)\n",
    "    \n",
    "#     return [1 / (sigma * sqrt(2*pi)) * exp(-float(x)**2/(2*sigma**2)) for x in r]"
   ]
  },
  {
   "cell_type": "code",
   "execution_count": 31,
   "metadata": {},
   "outputs": [],
   "source": [
    "# def lucy_filter(video,repeats,psf):\n",
    "#     filtered = np.zeros_like(video)\n",
    "#     psf_array = np.full((5, 5), psf)\n",
    "#     for frame in range(len(video[:,0,0])):\n",
    "#         filtered[frame,:,:] = restoration.richardson_lucy(video[frame,:,:],psf_array,repeats)\n",
    "#     return filtered\n"
   ]
  },
  {
   "cell_type": "code",
   "execution_count": 32,
   "metadata": {},
   "outputs": [],
   "source": [
    "# skimage.io.imsave('test2.tiff', video_high_filtered,photometric='minisblack')"
   ]
  },
  {
   "cell_type": "code",
   "execution_count": 33,
   "metadata": {},
   "outputs": [],
   "source": [
    "# def calc_psf(wavelength,NA,pw):\n",
    "#     d = wavelength/ 2*NA\n",
    "#     psf = d / (pw*1000)\n",
    "#     return psf\n"
   ]
  },
  {
   "cell_type": "code",
   "execution_count": 34,
   "metadata": {},
   "outputs": [],
   "source": [
    "# import numpy as np\n",
    "\n",
    "# def makeGaussian2(x_center=0, y_center=0, theta=0, sigma_x = 470, sigma_y=470, x_size=2821, y_size=2821):\n",
    "#     # x_center and y_center will be the center of the gaussian, theta will be the rotation angle\n",
    "#     # sigma_x and sigma_y will be the stdevs in the x and y axis before rotation\n",
    "#     # x_size and y_size give the size of the frame \n",
    "\n",
    "#     theta = 2*np.pi*theta/360\n",
    "#     x = np.arange(0,x_size, 1, float)\n",
    "#     y = np.arange(0,y_size, 1, float)\n",
    "#     y = y[:,np.newaxis]\n",
    "#     sx = sigma_x\n",
    "#     sy = sigma_y\n",
    "#     x0 = x_center\n",
    "#     y0 = y_center\n",
    "\n",
    "#     # rotation\n",
    "#     a=np.cos(theta)*x -np.sin(theta)*y\n",
    "#     b=np.sin(theta)*x +np.cos(theta)*y\n",
    "#     a0=np.cos(theta)*x0 -np.sin(theta)*y0\n",
    "#     b0=np.sin(theta)*x0 +np.cos(theta)*y0\n",
    "\n",
    "#     return np.exp(-(((a-a0)**2)/(2*(sx**2)) + ((b-b0)**2) /(2*(sy**2))))"
   ]
  },
  {
   "cell_type": "code",
   "execution_count": 35,
   "metadata": {},
   "outputs": [],
   "source": [
    "# import numpy as np\n",
    "# from numpy.fft import fftn, ifftn, fftshift \n",
    "\n",
    "# def richardson_lucy_np(image, psf, num_iters):\n",
    "    \n",
    "#     otf = fftn(fftshift(psf))\n",
    "#     otf_ = np.conjugate(otf)    \n",
    "#     estimate = image#np.ones(image.shape)/image.sum()\n",
    "\n",
    "#     for i in range(num_iters):\n",
    "#         #print(i)\n",
    "        \n",
    "#         reblurred = ifftn(fftn(estimate) * otf)\n",
    "#         ratio = image / (reblurred + 1e-30)\n",
    "#         estimate = estimate * (ifftn(fftn(ratio) * otf_)).astype(float)\n",
    "        \n",
    "\n",
    "#     return estimate\n"
   ]
  },
  {
   "cell_type": "code",
   "execution_count": 36,
   "metadata": {},
   "outputs": [],
   "source": [
    "# psf = np.full((256,256),0.0024)\n",
    "# test = richardson_lucy_np(video_high_filtered[50,:,:],psf,300)\n",
    "\n",
    "# plt.imshow(test)"
   ]
  }
 ],
 "metadata": {
  "kernelspec": {
   "display_name": "Python 3",
   "language": "python",
   "name": "python3"
  },
  "language_info": {
   "codemirror_mode": {
    "name": "ipython",
    "version": 3
   },
   "file_extension": ".py",
   "mimetype": "text/x-python",
   "name": "python",
   "nbconvert_exporter": "python",
   "pygments_lexer": "ipython3",
   "version": "3.9.13"
  }
 },
 "nbformat": 4,
 "nbformat_minor": 2
}
