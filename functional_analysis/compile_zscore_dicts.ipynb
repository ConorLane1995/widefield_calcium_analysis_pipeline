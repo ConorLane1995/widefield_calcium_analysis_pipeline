{
 "cells": [
  {
   "cell_type": "code",
   "execution_count": 1,
   "metadata": {},
   "outputs": [],
   "source": [
    "import numpy as np\n",
    "import pickle\n",
    "\n",
    "BASE_PATH = \"L:/widefield/compiled/\""
   ]
  },
  {
   "cell_type": "code",
   "execution_count": null,
   "metadata": {},
   "outputs": [],
   "source": [
    "# DAY 1 SALINE\n",
    "\n",
    "ID468 = \"L:/widefield/ID468_saline/day_1/ID468_08032024_GCaMP6s_1/zscore_dict.pkl\"\n",
    "ID480 = \"L:/widefield/ID480_saline/day_1/ID480_08032024_GCaMP6s_1/zscore_dict.pkl\"\n",
    "ID534 = \"L:/widefield/ID534_saline/day_1/ID534_08032024_GCaMP6s_2/zscore_dict.pkl\"\n",
    "ID539 = \"L:/widefield/ID539_saline/day_1/ID539_08032024_GCaMP6s_1/zscore_dict.pkl\"\n",
    "ID540 = \"L:/widefield/ID540_saline/Day 1/ID540_24042024_GCaMP6s_1/zscore_dict.pkl\"\n",
    "ID543 = \"L:/widefield/ID543_saline/Day 1/ID543_24042024_GCaMP6s_1/zscore_dict.pkl\"\n",
    "ID546 = \"L:/widefield/ID546_saline/Day 1/ID546_25042024_GCaMP6s_1/zscore_dict.pkl\"\n",
    "ID547 = \"L:/widefield/ID547_saline/Day 1/ID547_24042024_GCaMP6s_1/zscore_dict.pkl\"\n",
    "ID548 = \"L:/widefield/ID548_saline/Day 1/ID548_25042024_GCaMP6s_1/zscore_dict.pkl\"\n",
    "\n",
    "saline_day1 = [ID468,ID480,ID534,ID539,ID540,ID543,ID546,ID547,ID548]\n",
    "saline_day1_str = [\"ID468\",\"ID480\",\"ID534\",\"ID539\",\"ID540\",\"ID543\",\"ID546\",\"ID547\",\"ID548\"]\n",
    "\n",
    "saline_1 ={}\n",
    "\n",
    "for file in saline_day1_str:\n",
    "    saline_1[file]=None\n",
    "\n",
    "zippedsaline1 = zip(saline_day1, saline_day1_str)\n",
    "for k,v in zippedsaline1:\n",
    "    with open(k,'rb') as f:\n",
    "        saline_1[v] = pickle.load(f)\n",
    "\n",
    "print(\"Now Saving Saline Day 1\")\n",
    "\n",
    "\n",
    "with open(BASE_PATH+\"saline_day1.pkl\",'wb') as f:\n",
    "         pickle.dump(saline_1,f)  "
   ]
  },
  {
   "cell_type": "code",
   "execution_count": null,
   "metadata": {},
   "outputs": [],
   "source": [
    "# DAY 1 PSILOCYBIN\n",
    "\n",
    "ID325 = \"L:/widefield/ID325_psilo/Day 1/ID325_27062023_GCaMP6s_1/zscore_dict.pkl\"\n",
    "ID332 = \"L:/widefield/ID332_psilo/Day 1/ID332_29062023_GCaMP6s_1/zscore_dict.pkl\"\n",
    "ID338 = \"L:/widefield/ID338_psilo/Day 1/ID338_28062023_GCaMP6s_1/zscore_dict.pkl\"\n",
    "ID348 = \"L:/widefield/ID348_psilo/Day 1/ID348_28062023_GCaMP6s_1/zscore_dict.pkl\"\n",
    "ID350 = \"L:/widefield/ID350_psilo/Day 1/ID350_27062023_GCaMP6s_1/zscore_dict.pkl\"\n",
    "ID527 = \"L:/widefield/ID527_psilo/day_1/ID527_07032024_GCaMP6s_1/zscore_dict.pkl\"\n",
    "ID529 = \"L:/widefield/ID529_psilo/day_1/ID529_07032024_GCaMP6s_1/zscore_dict.pkl\"\n",
    "ID532 = \"L:/widefield/ID532_psilo/day_1/ID532_07032024_GCaMP6s_1/zscore_dict.pkl\"\n",
    "ID535 = \"L:/widefield/ID535_psilo/day_1/ID535_07032024_GCaMP6s_1/zscore_dict.pkl\"\n",
    "\n",
    "psilo_day1 = [ID325,ID332,ID338,ID348,ID350,ID527,ID529,ID532,ID535]\n",
    "psilo_day1_str = [\"ID468\",\"ID480\",\"ID534\",\"ID539\",\"ID540\",\"ID543\",\"ID546\",\"ID547\",\"ID548\"]\n",
    "\n",
    "psilo_1 ={}\n",
    "\n",
    "for file in psilo_day1_str:\n",
    "    psilo_1[file]=None\n",
    "\n",
    "zippedpsilo1 = zip(psilo_day1, psilo_day1_str)\n",
    "for k,v in zippedpsilo1:\n",
    "    with open(k,'rb') as f:\n",
    "        psilo_1[v] = pickle.load(f)\n",
    "\n",
    "print(\"Now Saving Psilocybin Day 1\")\n",
    "\n",
    "with open(BASE_PATH+\"psilocybin_day1.pkl\",'wb') as f:\n",
    "         pickle.dump(psilo_1,f)  "
   ]
  },
  {
   "cell_type": "code",
   "execution_count": null,
   "metadata": {},
   "outputs": [],
   "source": [
    "# DAY 6 SALINE\n",
    "\n",
    "ID468 = \"L:/widefield/ID468_saline/day_6/ID468_15032024_GCaMP6s_1/zscore_dict.pkl\"\n",
    "ID480 = \"L:/widefield/ID480_saline/day_6/ID480_15032024_GCaMP6s_1/zscore_dict.pkl\"\n",
    "ID534 = \"L:/widefield/ID534_saline/day_6/ID534_15032024_GCaMP6s_1/zscore_dict.pkl\"\n",
    "ID539 = \"L:/widefield/ID539_saline/day_6/ID539_15032024_GCaMP6s_1/zscore_dict.pkl\"\n",
    "ID540 = \"L:/widefield/ID540_saline/Day 6/ID540_30042024_GCaMP6s_1/zscore_dict.pkl\"\n",
    "ID543 = \"L:/widefield/ID543_saline/Day 6/ID543_30042024_GCaMP6s_1/zscore_dict.pkl\"\n",
    "ID546 = \"L:/widefield/ID546_saline/Day 6/ID546_01052024_GCaMP6s_2/zscore_dict.pkl\"\n",
    "ID547 = \"L:/widefield/ID547_saline/Day 6/ID547_30042024_GCaMP6s_1/zscore_dict.pkl\"\n",
    "ID548 = \"L:/widefield/ID548_saline/Day 6/ID548_01052024_GCaMP6s_1/zscore_dict.pkl\"\n",
    "\n",
    "saline_day6 = [ID468,ID480,ID534,ID539,ID540,ID543,ID546,ID547,ID548]\n",
    "saline_day6_str = [\"ID468\",\"ID480\",\"ID534\",\"ID539\",\"ID540\",\"ID543\",\"ID546\",\"ID547\",\"ID548\"]\n",
    "\n",
    "saline_6 ={}\n",
    "\n",
    "for file in saline_day6_str:\n",
    "    saline_6[file]=None\n",
    "\n",
    "zippedsaline6 = zip(saline_day6, saline_day6_str)\n",
    "for k,v in zippedsaline6:\n",
    "    with open(k,'rb') as f:\n",
    "        saline_6[v] = pickle.load(f)\n",
    "\n",
    "print(\"Now Saving Saline Day 6\")\n",
    "\n",
    "with open(BASE_PATH+\"saline_day6.pkl\",'wb') as f:\n",
    "         pickle.dump(saline_6,f)  "
   ]
  },
  {
   "cell_type": "code",
   "execution_count": 3,
   "metadata": {},
   "outputs": [
    {
     "name": "stdout",
     "output_type": "stream",
     "text": [
      "Now Saving Psilocybin Day 6\n"
     ]
    }
   ],
   "source": [
    "# DAY 6 PSILOCYBIN\n",
    "\n",
    "ID325 = \"L:/widefield/ID325_psilo/Day 6/ID325_03072023_GCaMP6s_1/zscore_dict.pkl\"\n",
    "ID332 = \"L:/widefield/ID332_psilo/Day 6/ID332_04072023_GCaMP6s_1/zscore_dict.pkl\"\n",
    "ID338 = \"L:/widefield/ID338_psilo/Day 6/ID338_04072023_GCaMP6s_1/zscore_dict.pkl\"\n",
    "ID348 = \"L:/widefield/ID348_psilo/Day 6/ID348_04072023_GCaMP6s_1/zscore_dict.pkl\"\n",
    "ID350 = \"L:/widefield/ID350_psilo/Day 6/ID350_03072023_GCaMP6s_1/zscore_dict.pkl\"\n",
    "ID527 = \"L:/widefield/ID527_psilo/day_6/ID527_14032024_GCaMP6s_1/zscore_dict.pkl\"\n",
    "ID529 = \"L:/widefield/ID529_psilo/day_6/ID529_14032024_GCaMP6s_1/zscore_dict.pkl\"\n",
    "ID532 = \"L:/widefield/ID532_psilo/day_6/ID532_14032024_GCaMP6s_1/zscore_dict.pkl\"\n",
    "ID535 = \"L:/widefield/ID535_psilo/day_6/ID535_14032024_GCaMP6s_2/zscore_dict.pkl\"\n",
    "\n",
    "psilo_day6 = [ID325,ID332,ID338,ID348,ID350,ID527,ID529,ID532,ID535]\n",
    "psilo_day6_str = [\"ID468\",\"ID480\",\"ID534\",\"ID539\",\"ID540\",\"ID543\",\"ID546\",\"ID547\",\"ID548\"]\n",
    "\n",
    "psilo_6 ={}\n",
    "\n",
    "for file in psilo_day6_str:\n",
    "    psilo_6[file]=None\n",
    "\n",
    "zippedpsilo6 = zip(psilo_day6, psilo_day6_str)\n",
    "for k,v in zippedpsilo6:\n",
    "    with open(k,'rb') as f:\n",
    "        psilo_6[v] = pickle.load(f)\n",
    "\n",
    "print(\"Now Saving Psilocybin Day 6\")\n",
    "\n",
    "with open(BASE_PATH+\"psilocybin_day6.pkl\",'wb') as f:\n",
    "         pickle.dump(psilo_6,f)  "
   ]
  },
  {
   "cell_type": "code",
   "execution_count": 3,
   "metadata": {},
   "outputs": [
    {
     "name": "stdout",
     "output_type": "stream",
     "text": [
      "Now Saving Saline Day 14\n"
     ]
    }
   ],
   "source": [
    "# DAY 14 SALINE\n",
    "\n",
    "ID468 = \"L:/widefield/ID468_saline/day_14/ID468_22032024_GCaMP6s_1/zscore_dict.pkl\"\n",
    "ID480 = \"L:/widefield/ID480_saline/day_14/ID480_22032024_GCaMP6s_1/zscore_dict.pkl\"\n",
    "ID534 = \"L:/widefield/ID534_saline/day_14/ID534_22032024_GCaMP6s_1/zscore_dict.pkl\"\n",
    "ID539 = \"L:/widefield/ID539_saline/day_14/ID539_22032024_GCaMP6s_1/zscore_dict.pkl\"\n",
    "ID540 = \"L:/widefield/ID540_saline/Day 14/ID540_07052024_GCaMP6s_1/zscore_dict.pkl\"\n",
    "ID543 = \"L:/widefield/ID543_saline/Day 14/ID543_07052024_GCaMP6s_1/zscore_dict.pkl\"\n",
    "ID546 = \"L:/widefield/ID546_saline/Day 14/ID546_08052024_GCaMP6s_1/zscore_dict.pkl\"\n",
    "ID547 = \"L:/widefield/ID547_saline/Day 14/ID547_07052024_GCaMP6s_1/zscore_dict.pkl\"\n",
    "ID548 = \"L:/widefield/ID548_saline/Day 14/ID548_08052024_GCaMP6s_1/zscore_dict.pkl\"\n",
    "\n",
    "saline_day14 = [ID468,ID480,ID534,ID539,ID540,ID543,ID546,ID547,ID548]\n",
    "saline_day14_str = [\"ID468\",\"ID480\",\"ID534\",\"ID539\",\"ID540\",\"ID543\",\"ID546\",\"ID547\",\"ID548\"]\n",
    "\n",
    "saline_14 ={}\n",
    "\n",
    "for file in saline_day14_str:\n",
    "    saline_14[file]=None\n",
    "\n",
    "zippedsaline14 = zip(saline_day14, saline_day14_str)\n",
    "for k,v in zippedsaline14:\n",
    "    with open(k,'rb') as f:\n",
    "        saline_14[v] = pickle.load(f)\n",
    "\n",
    "print(\"Now Saving Saline Day 14\")\n",
    "\n",
    "\n",
    "with open(BASE_PATH+\"saline_day14.pkl\",'wb') as f:\n",
    "         pickle.dump(saline_14,f)  "
   ]
  },
  {
   "cell_type": "code",
   "execution_count": 3,
   "metadata": {},
   "outputs": [
    {
     "name": "stdout",
     "output_type": "stream",
     "text": [
      "Now Saving Psilocybin Day 14\n"
     ]
    }
   ],
   "source": [
    "# DAY 14 PSILOCYBIN\n",
    "\n",
    "ID325 = \"L:/widefield/ID325_psilo/Day 14/ID325_11072023_GCaMP6s_1/zscore_dict.pkl\"\n",
    "ID332 = \"L:/widefield/ID332_psilo/Day 14/ID332_12072023_GCaMP6s_1/zscore_dict.pkl\"\n",
    "ID338 = \"L:/widefield/ID338_psilo/Day 14/ID338_12072023_GCaMP6s_1/zscore_dict.pkl\"\n",
    "ID348 = \"L:/widefield/ID348_psilo/Day 14/ID348_12072023_GCaMP6s_1/zscore_dict.pkl\"\n",
    "ID350 = \"L:/widefield/ID350_psilo/Day 14/ID350_11072023_GCaMP6s_1/zscore_dict.pkl\"\n",
    "ID527 = \"L:/widefield/ID527_psilo/day_14/ID527_21032024_GCaMP6s_1/zscore_dict.pkl\"\n",
    "ID529 = \"L:/widefield/ID529_psilo/day_14/ID529_21032024_GCaMP6s_1/zscore_dict.pkl\"\n",
    "ID532 = \"L:/widefield/ID532_psilo/day_14/ID532_21032024_GCaMP6s_1/zscore_dict.pkl\"\n",
    "ID535 = \"L:/widefield/ID535_psilo/day_14/ID535_21032024_GCaMP6s_2/zscore_dict.pkl\"\n",
    "\n",
    "psilo_day14 = [ID325,ID332,ID338,ID348,ID350,ID527,ID529,ID532,ID535]\n",
    "psilo_day14_str = [\"ID468\",\"ID480\",\"ID534\",\"ID539\",\"ID540\",\"ID543\",\"ID546\",\"ID547\",\"ID548\"]\n",
    "\n",
    "psilo_14 ={}\n",
    "\n",
    "for file in psilo_day14_str:\n",
    "    psilo_14[file]=None\n",
    "\n",
    "zippedpsilo14 = zip(psilo_day14, psilo_day14_str)\n",
    "for k,v in zippedpsilo14:\n",
    "    with open(k,'rb') as f:\n",
    "        psilo_14[v] = pickle.load(f)\n",
    "\n",
    "print(\"Now Saving Psilocybin Day 14\")\n",
    "\n",
    "with open(BASE_PATH+\"psilocybin_day14.pkl\",'wb') as f:\n",
    "         pickle.dump(psilo_14,f)  "
   ]
  },
  {
   "cell_type": "code",
   "execution_count": 2,
   "metadata": {},
   "outputs": [
    {
     "name": "stdout",
     "output_type": "stream",
     "text": [
      "Now Saving Saline Day 21\n"
     ]
    }
   ],
   "source": [
    "# DAY 21 SALINE\n",
    "\n",
    "ID468 = \"L:/widefield/ID468_saline/day_21/ID468_29032024_GCaMP6s_1/zscore_dict.pkl\"\n",
    "ID480 = \"L:/widefield/ID480_saline/day_21/ID480_29032024_GCaMP6s_2/zscore_dict.pkl\"\n",
    "ID534 = \"L:/widefield/ID534_saline/day_21/ID534_29032024_GCaMP6s_1/zscore_dict.pkl\"\n",
    "ID539 = \"L:/widefield/ID539_saline/day_21/ID539_29032024_GCaMP6s_1/zscore_dict.pkl\"\n",
    "ID540 = \"L:/widefield/ID540_saline/Day_21/ID540_14052024_GCaMP6s_1/zscore_dict.pkl\"\n",
    "ID543 = \"L:/widefield/ID543_saline/Day_21/ID543_14052024_GCaMP6s_1/zscore_dict.pkl\"\n",
    "ID546 = \"L:/widefield/ID546_saline/Day_21/ID546_15052024_GCaMP6s_1/zscore_dict.pkl\"\n",
    "ID547 = \"L:/widefield/ID547_saline/Day_21/ID547_14052024_GCaMP6s_1/zscore_dict.pkl\"\n",
    "ID548 = \"L:/widefield/ID548_saline/Day_21/ID548_15052024_GCaMP6s_1/zscore_dict.pkl\"\n",
    "\n",
    "saline_day21 = [ID468,ID480,ID534,ID539,ID540,ID543,ID546,ID547,ID548]\n",
    "saline_day21_str = [\"ID468\",\"ID480\",\"ID534\",\"ID539\",\"ID540\",\"ID543\",\"ID546\",\"ID547\",\"ID548\"]\n",
    "\n",
    "saline_21 ={}\n",
    "\n",
    "for file in saline_day21_str:\n",
    "    saline_21[file]=None\n",
    "\n",
    "zippedsaline21 = zip(saline_day21, saline_day21_str)\n",
    "for k,v in zippedsaline21:\n",
    "    with open(k,'rb') as f:\n",
    "        saline_21[v] = pickle.load(f)\n",
    "\n",
    "print(\"Now Saving Saline Day 21\")\n",
    "\n",
    "\n",
    "with open(BASE_PATH+\"saline_day21.pkl\",'wb') as f:\n",
    "         pickle.dump(saline_21,f)  "
   ]
  },
  {
   "cell_type": "code",
   "execution_count": 2,
   "metadata": {},
   "outputs": [
    {
     "name": "stdout",
     "output_type": "stream",
     "text": [
      "Now Saving Psilocybin Day 21\n"
     ]
    }
   ],
   "source": [
    "# DAY 21 PSILOCYBIN\n",
    "\n",
    "ID325 = \"L:/widefield/ID325_psilo/Day 20/ID325_17072023_GCaMP6s_1/zscore_dict.pkl\"\n",
    "ID332 = \"L:/widefield/ID332_psilo/Day 20/ID332_18072023_GCaMP6s_1/zscore_dict.pkl\"\n",
    "ID338 = \"L:/widefield/ID338_psilo/Day 20/ID338_18072023_GCaMP6s_1/zscore_dict.pkl\"\n",
    "ID348 = \"L:/widefield/ID348_psilo/Day 20/ID348_18072023_GCaMP6s_1/zscore_dict.pkl\"\n",
    "ID350 = \"L:/widefield/ID350_psilo/Day 20/ID350_17072023_GCaMP6s_1/zscore_dict.pkl\"\n",
    "ID527 = \"L:/widefield/ID527_psilo/day_21/ID527_28032024_GCaMP6s_1/zscore_dict.pkl\"\n",
    "ID529 = \"L:/widefield/ID529_psilo/day_21/ID529_28032024_GCaMP6s_1/zscore_dict.pkl\"\n",
    "ID532 = \"L:/widefield/ID532_psilo/day_21/ID532_28032024_GCaMP6s_1/zscore_dict.pkl\"\n",
    "ID535 = \"L:/widefield/ID535_psilo/day_21/ID535_28032024_GCaMP6s_1/zscore_dict.pkl\"\n",
    "\n",
    "psilo_day21 = [ID325,ID332,ID338,ID348,ID350,ID527,ID529,ID532,ID535]\n",
    "psilo_day21_str = [\"ID468\",\"ID480\",\"ID534\",\"ID539\",\"ID540\",\"ID543\",\"ID546\",\"ID547\",\"ID548\"]\n",
    "\n",
    "psilo_21 ={}\n",
    "\n",
    "for file in psilo_day21_str:\n",
    "    psilo_21[file]=None\n",
    "\n",
    "zippedpsilo21 = zip(psilo_day21, psilo_day21_str)\n",
    "for k,v in zippedpsilo21:\n",
    "    with open(k,'rb') as f:\n",
    "        psilo_21[v] = pickle.load(f)\n",
    "\n",
    "print(\"Now Saving Psilocybin Day 21\")\n",
    "\n",
    "with open(BASE_PATH+\"psilocybin_day21.pkl\",'wb') as f:\n",
    "         pickle.dump(psilo_21,f)  "
   ]
  }
 ],
 "metadata": {
  "kernelspec": {
   "display_name": "Python 3",
   "language": "python",
   "name": "python3"
  },
  "language_info": {
   "codemirror_mode": {
    "name": "ipython",
    "version": 3
   },
   "file_extension": ".py",
   "mimetype": "text/x-python",
   "name": "python",
   "nbconvert_exporter": "python",
   "pygments_lexer": "ipython3",
   "version": "3.9.13"
  }
 },
 "nbformat": 4,
 "nbformat_minor": 2
}
